{
 "cells": [
  {
   "cell_type": "code",
   "execution_count": 2,
   "metadata": {},
   "outputs": [],
   "source": [
    "import numpy as np"
   ]
  },
  {
   "cell_type": "markdown",
   "metadata": {},
   "source": [
    "Vectores"
   ]
  },
  {
   "cell_type": "code",
   "execution_count": 4,
   "metadata": {},
   "outputs": [
    {
     "name": "stdout",
     "output_type": "stream",
     "text": [
      "v + w =  [3 5 3 4]\n",
      "2 * v =  [ 2  4  6 -2]\n",
      "v^2 =  [1 4 9 1]\n"
     ]
    }
   ],
   "source": [
    "v = np.array([1,2,3,-1])\n",
    "w = np.array([2,3,0,5])\n",
    "\n",
    "print(\"v + w = \", v+w)\n",
    "print(\"2 * v = \", 2*v)\n",
    "print(\"v^2 = \", v**2)\n"
   ]
  },
  {
   "cell_type": "markdown",
   "metadata": {},
   "source": [
    "Matrices"
   ]
  },
  {
   "cell_type": "code",
   "execution_count": 15,
   "metadata": {},
   "outputs": [
    {
     "name": "stdout",
     "output_type": "stream",
     "text": [
      "[[ 1  2  3  4  5]\n",
      " [ 0  4  2  9  6]\n",
      " [12 -1  9  5  7]\n",
      " [ 9  0 -3  0  8]]\n"
     ]
    },
    {
     "data": {
      "text/plain": [
       "array([[ 1, 12,  9],\n",
       "       [ 3,  9, -3],\n",
       "       [ 4,  5,  0]])"
      ]
     },
     "execution_count": 15,
     "metadata": {},
     "output_type": "execute_result"
    }
   ],
   "source": [
    "A = np.array([[1,2,3,4,5],[0,4,2,9,6],[12,-1,9,5,7],[9,0,-3,0,8]])\n",
    "print(A)\n",
    "\n",
    "A[0:2,3:5]                  # Desde fila 0 hasta fila 2 (sin incluir), desde columna 3 hasta la 5 (sin incluir)\n",
    "A[:2,3:]                    # Todo hasta fila 2, todo desde columna 3\n",
    "A[[0,2,3],:]                # fila 0, 2 y 3, todo\n",
    "ind = np.array([0,2,3])     \n",
    "A[ind,ind]                  # Coordenada a coordenada: [0,2,3],[0,2,3] = (0,0), (2,2), (3,3)\n",
    "A[ind, ind[:,None]]\n",
    "\n"
   ]
  },
  {
   "cell_type": "markdown",
   "metadata": {},
   "source": [
    "Numeros Complejos"
   ]
  },
  {
   "cell_type": "code",
   "execution_count": 25,
   "metadata": {},
   "outputs": [
    {
     "name": "stdout",
     "output_type": "stream",
     "text": [
      "z + w = (4-1j)\n",
      "Parte Real: 3.0\n",
      "Parte Imaginaria: -3.0\n",
      "Conjugado: (3+3j)\n",
      "w * w_ = (18+0j)\n"
     ]
    }
   ],
   "source": [
    "1j*1j\n",
    "(1+2j)*1j\n",
    "z = 1 + 2j\n",
    "w = 3 - 3j\n",
    "print(\"z + w =\", z+w)\n",
    "print(f\"Parte Real: {w.real}\\nParte Imaginaria: {w.imag}\")\n",
    "print(f\"Conjugado: {w.conjugate()}\")\n",
    "w_= w.conjugate()\n",
    "print(f\"w * w_ = {w*w_}\")"
   ]
  }
 ],
 "metadata": {
  "kernelspec": {
   "display_name": ".venv",
   "language": "python",
   "name": "python3"
  },
  "language_info": {
   "codemirror_mode": {
    "name": "ipython",
    "version": 3
   },
   "file_extension": ".py",
   "mimetype": "text/x-python",
   "name": "python",
   "nbconvert_exporter": "python",
   "pygments_lexer": "ipython3",
   "version": "3.10.12"
  }
 },
 "nbformat": 4,
 "nbformat_minor": 2
}
