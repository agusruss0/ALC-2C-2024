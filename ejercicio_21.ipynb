{
 "cells": [
  {
   "cell_type": "code",
   "execution_count": 1,
   "metadata": {},
   "outputs": [],
   "source": [
    "import numpy as np"
   ]
  },
  {
   "cell_type": "code",
   "execution_count": 4,
   "metadata": {},
   "outputs": [
    {
     "data": {
      "text/plain": [
       "np.int64(4)"
      ]
     },
     "execution_count": 4,
     "metadata": {},
     "output_type": "execute_result"
    }
   ],
   "source": [
    "def tr(A) -> int:\n",
    "    rows = len(A)\n",
    "    tr = 0\n",
    "    for i in range(rows):\n",
    "        tr += A[i][i]\n",
    "    return tr\n",
    "\n",
    "A = np.array([[2,2],[2,2]])\n",
    "tr(A)"
   ]
  },
  {
   "cell_type": "code",
   "execution_count": 8,
   "metadata": {},
   "outputs": [
    {
     "data": {
      "text/plain": [
       "np.int64(8)"
      ]
     },
     "execution_count": 8,
     "metadata": {},
     "output_type": "execute_result"
    }
   ],
   "source": [
    "def sum_matrix(A) -> int:\n",
    "    rows, cols = A.shape\n",
    "\n",
    "    sum = 0\n",
    "    for i in range(rows):\n",
    "        for j in range(cols):\n",
    "            sum += A[i][j]\n",
    "\n",
    "    return sum\n",
    "\n",
    "sum_matrix(A)"
   ]
  },
  {
   "cell_type": "code",
   "execution_count": 10,
   "metadata": {},
   "outputs": [
    {
     "data": {
      "text/plain": [
       "np.True_"
      ]
     },
     "execution_count": 10,
     "metadata": {},
     "output_type": "execute_result"
    }
   ],
   "source": [
    "def sum_pos_neg_matrix(A) -> bool:\n",
    "    rows, cols = A.shape\n",
    "\n",
    "    sum_pos = 0\n",
    "    sum_neg = 0\n",
    "\n",
    "    for i in range(rows):\n",
    "        for j in range(cols):\n",
    "            if A[i][j] >= 0: \n",
    "                sum_pos += A[i][j]\n",
    "            else:\n",
    "                sum_neg -= A[i][j]\n",
    "    \n",
    "    return sum_pos > sum_neg\n",
    "\n",
    "B = np.array([[1,2,3],[-2,-5,0],[1,-1,2]])\n",
    "sum_pos_neg_matrix(B)"
   ]
  }
 ],
 "metadata": {
  "kernelspec": {
   "display_name": ".venv",
   "language": "python",
   "name": "python3"
  },
  "language_info": {
   "codemirror_mode": {
    "name": "ipython",
    "version": 3
   },
   "file_extension": ".py",
   "mimetype": "text/x-python",
   "name": "python",
   "nbconvert_exporter": "python",
   "pygments_lexer": "ipython3",
   "version": "3.11.9"
  }
 },
 "nbformat": 4,
 "nbformat_minor": 2
}
