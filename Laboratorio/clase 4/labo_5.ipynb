{
 "cells": [
  {
   "cell_type": "code",
   "execution_count": 3,
   "metadata": {},
   "outputs": [],
   "source": [
    "import numpy as np"
   ]
  },
  {
   "cell_type": "markdown",
   "metadata": {},
   "source": [
    "Ejercicio 3"
   ]
  },
  {
   "cell_type": "code",
   "execution_count": 8,
   "metadata": {},
   "outputs": [],
   "source": [
    "def solve_LU(L, U, b):\n",
    "    y = np.linalg.solve(L,b)\n",
    "    x = np.linalg.solve(U, y)\n",
    "    return x"
   ]
  },
  {
   "cell_type": "code",
   "execution_count": 30,
   "metadata": {},
   "outputs": [
    {
     "data": {
      "text/plain": [
       "array([[1., 0., 0., 0.],\n",
       "       [0., 1., 0., 0.],\n",
       "       [0., 0., 1., 0.],\n",
       "       [0., 0., 0., 1.]])"
      ]
     },
     "execution_count": 30,
     "metadata": {},
     "output_type": "execute_result"
    }
   ],
   "source": [
    "def desc_LU(A):\n",
    "    rows, cols = A.shape\n",
    "    M = np.eye(rows, cols)\n",
    "    I = np.eye(rows,cols)\n",
    "    for i in range(cols):\n",
    "        z = np.zeros(rows)\n",
    "        \n",
    "        for j in range(i,rows):\n",
    "            if j == i:\n",
    "                z[j] = 0\n",
    "            else:\n",
    "                z[j] = - (A[j,i]/A[i,i])  \n",
    "        e_i = I[i,:]\n",
    "        M_i = np.eye(rows,cols) - z * np.transpose(e_i)\n",
    "        M = M @ M_i\n",
    "    return M\n",
    "\n",
    "A = np.array([[2,1,2,3],[4,3,3,4],[-2,2,-4, -12],[4,1,8,-3]])\n",
    "M = desc_LU(A)\n",
    "M"
   ]
  },
  {
   "cell_type": "code",
   "execution_count": null,
   "metadata": {},
   "outputs": [],
   "source": []
  },
  {
   "cell_type": "code",
   "execution_count": null,
   "metadata": {},
   "outputs": [],
   "source": []
  }
 ],
 "metadata": {
  "kernelspec": {
   "display_name": ".venv",
   "language": "python",
   "name": "python3"
  },
  "language_info": {
   "codemirror_mode": {
    "name": "ipython",
    "version": 3
   },
   "file_extension": ".py",
   "mimetype": "text/x-python",
   "name": "python",
   "nbconvert_exporter": "python",
   "pygments_lexer": "ipython3",
   "version": "3.12.3"
  }
 },
 "nbformat": 4,
 "nbformat_minor": 2
}
