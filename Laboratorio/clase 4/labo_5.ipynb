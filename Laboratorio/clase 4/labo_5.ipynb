{
 "cells": [
  {
   "cell_type": "code",
   "execution_count": 7,
   "metadata": {},
   "outputs": [],
   "source": [
    "import numpy as np\n",
    "import scipy as sp"
   ]
  },
  {
   "cell_type": "markdown",
   "metadata": {},
   "source": [
    "Ejercicio 3"
   ]
  },
  {
   "cell_type": "code",
   "execution_count": 13,
   "metadata": {},
   "outputs": [],
   "source": [
    "def solve_LU(L, U, b):\n",
    "    y = sp.linalg.solve_triangular(L,b, lower=True)\n",
    "    x = sp.linalg.solve_triangular(U, y)\n",
    "    return x"
   ]
  },
  {
   "cell_type": "code",
   "execution_count": 3,
   "metadata": {},
   "outputs": [
    {
     "name": "stdout",
     "output_type": "stream",
     "text": [
      "Matriz A:\n",
      " [[  2   1   2   3]\n",
      " [  4   3   3   4]\n",
      " [ -2   2  -4 -12]\n",
      " [  4   1   8  -3]]\n",
      "Matriz L:\n",
      " [[ 1.  0.  0.  0.]\n",
      " [ 2.  1.  0.  0.]\n",
      " [-1.  3.  1.  0.]\n",
      " [ 2. -1.  3.  1.]]\n",
      "Matriz U:\n",
      " [[ 2  1  2  3]\n",
      " [ 0  1 -1 -2]\n",
      " [ 0  0  1 -3]\n",
      " [ 0  0  0 -2]]\n",
      "A = LU:\n",
      " [[  2.   1.   2.   3.]\n",
      " [  4.   3.   3.   4.]\n",
      " [ -2.   2.  -4. -12.]\n",
      " [  4.   1.   8.  -3.]]\n"
     ]
    }
   ],
   "source": [
    "def desc_LU(A):\n",
    "    rows, cols = A.shape\n",
    "    L = np.eye(rows)\n",
    "    U = A.copy()\n",
    "\n",
    "    if rows != cols:\n",
    "        raise ValueError(\"La matriz debe ser cuadrada para realizar la descomposición LU.\")\n",
    "    \n",
    "    for i in range(rows):\n",
    "        for j in range(i+1,rows):\n",
    "            factor = U[j,i]/U[i,i]                           #Calculo el factor por el cual modifico la fila a escalonar\n",
    "            U[j,i:] = U[j,i:] - factor * U[i,i:]             #Le resto a la fila j de U la fila i multiplicada por el factor que la escalona\n",
    "            L[j,i] = factor                                  #Armo L que es los factores como columnas de bajo de la diagonal con el signo opuesto\n",
    "           \n",
    "    return L, U\n",
    "\n",
    "A = np.array([[2,1,2,3],[4,3,3,4],[-2,2,-4, -12],[4,1,8,-3]])\n",
    "if np.linalg.det(A) != 0:\n",
    "    L, U = desc_LU(A)\n",
    "    print(\"Matriz A:\\n\", A)\n",
    "    print(\"Matriz L:\\n\",L)\n",
    "    print(\"Matriz U:\\n\",U)\n",
    "    print(\"A = LU:\\n\", L@U)\n",
    "else:\n",
    "    print(\"A has no inverse\")"
   ]
  },
  {
   "cell_type": "code",
   "execution_count": 32,
   "metadata": {},
   "outputs": [
    {
     "data": {
      "text/plain": [
       "array([ 0.,  1., -2.,  2.])"
      ]
     },
     "execution_count": 32,
     "metadata": {},
     "output_type": "execute_result"
    }
   ],
   "source": [
    "def resolve_system(A, b):\n",
    "    L, U = desc_LU(A)\n",
    "    return solve_LU(L, U, b)\n",
    "\n",
    "A = np.array([[1,-1,0,1],[0,1,4,0],[2,-1,0,-2],[-3,3,0,-1]])\n",
    "b = np.array([1,-7,-5,1])\n",
    "\n",
    "resolve_system(A,b)"
   ]
  },
  {
   "cell_type": "code",
   "execution_count": 14,
   "metadata": {},
   "outputs": [
    {
     "name": "stdout",
     "output_type": "stream",
     "text": [
      "[[ 3.5   0.    1.    1.5 ]\n",
      " [ 4.    0.    1.    2.  ]\n",
      " [-1.    0.25 -0.25 -0.5 ]\n",
      " [ 1.5   0.    0.    0.5 ]]\n",
      "[[ 3.5  -0.    1.    1.5 ]\n",
      " [ 4.    0.    1.    2.  ]\n",
      " [-1.    0.25 -0.25 -0.5 ]\n",
      " [ 1.5   0.    0.    0.5 ]]\n"
     ]
    }
   ],
   "source": [
    "def calcular_inv(A):\n",
    "    rows, cols = A.shape\n",
    "    b = np.eye(rows)\n",
    "    L, U = desc_LU(A)\n",
    "    res = np.zeros(A.shape)\n",
    "    for i in range(rows):\n",
    "        res[:,i] = solve_LU(L,U, b[:,i])\n",
    "\n",
    "    return res\n",
    "\n",
    "A = np.array([[1,-1,0,1],[0,1,4,0],[2,-1,0,-2],[-3,3,0,-1]])\n",
    "print(calcular_inv(A))\n",
    "\n",
    "print(np.linalg.inv(A))"
   ]
  },
  {
   "cell_type": "code",
   "execution_count": null,
   "metadata": {},
   "outputs": [],
   "source": []
  }
 ],
 "metadata": {
  "kernelspec": {
   "display_name": ".venv",
   "language": "python",
   "name": "python3"
  },
  "language_info": {
   "codemirror_mode": {
    "name": "ipython",
    "version": 3
   },
   "file_extension": ".py",
   "mimetype": "text/x-python",
   "name": "python",
   "nbconvert_exporter": "python",
   "pygments_lexer": "ipython3",
   "version": "3.11.9"
  }
 },
 "nbformat": 4,
 "nbformat_minor": 2
}
