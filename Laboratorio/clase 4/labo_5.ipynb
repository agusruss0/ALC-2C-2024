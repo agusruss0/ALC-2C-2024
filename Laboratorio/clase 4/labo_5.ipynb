{
 "cells": [
  {
   "cell_type": "code",
   "execution_count": 1,
   "metadata": {},
   "outputs": [],
   "source": [
    "import numpy as np"
   ]
  },
  {
   "cell_type": "markdown",
   "metadata": {},
   "source": [
    "Ejercicio 3"
   ]
  },
  {
   "cell_type": "code",
   "execution_count": 8,
   "metadata": {},
   "outputs": [],
   "source": [
    "def solve_LU(L, U, b):\n",
    "    y = np.linalg.solve(L,b)\n",
    "    x = np.linalg.solve(U, y)\n",
    "    return x"
   ]
  },
  {
   "cell_type": "code",
   "execution_count": 36,
   "metadata": {},
   "outputs": [
    {
     "name": "stdout",
     "output_type": "stream",
     "text": [
      "[[  2   1   2   3]\n",
      " [  4   3   3   4]\n",
      " [ -2   2  -4 -12]\n",
      " [  4   1   8  -3]]\n"
     ]
    },
    {
     "data": {
      "text/plain": [
       "array([[  2.,   1.,   2.,   3.],\n",
       "       [  4.,   3.,   3.,   4.],\n",
       "       [ -2.,   2.,  -4., -12.],\n",
       "       [  4.,   1.,   8.,  -3.]])"
      ]
     },
     "execution_count": 36,
     "metadata": {},
     "output_type": "execute_result"
    }
   ],
   "source": [
    "def desc_LU(A):\n",
    "    rows, cols = A.shape\n",
    "    M = np.eye(rows)\n",
    "    for i in range(cols):\n",
    "        M_i = np.eye(rows)\n",
    "        \n",
    "        for j in range(i+1,rows):\n",
    "            \n",
    "            factor = - (A[j,i]/A[i,i])\n",
    "            M_i[j,i] = factor\n",
    "        \n",
    "        M = M_i@M\n",
    "        A = M@A\n",
    "     \n",
    "    return M\n",
    "\n",
    "A = np.array([[2,1,2,3],[4,3,3,4],[-2,2,-4, -12],[4,1,8,-3]])\n",
    "M = desc_LU(A)\n",
    "print(A)\n",
    "U = M@A\n",
    "np.linalg.inv(M)@U"
   ]
  },
  {
   "cell_type": "code",
   "execution_count": null,
   "metadata": {},
   "outputs": [],
   "source": []
  },
  {
   "cell_type": "code",
   "execution_count": null,
   "metadata": {},
   "outputs": [],
   "source": []
  }
 ],
 "metadata": {
  "kernelspec": {
   "display_name": ".venv",
   "language": "python",
   "name": "python3"
  },
  "language_info": {
   "codemirror_mode": {
    "name": "ipython",
    "version": 3
   },
   "file_extension": ".py",
   "mimetype": "text/x-python",
   "name": "python",
   "nbconvert_exporter": "python",
   "pygments_lexer": "ipython3",
   "version": "3.12.3"
  }
 },
 "nbformat": 4,
 "nbformat_minor": 2
}
